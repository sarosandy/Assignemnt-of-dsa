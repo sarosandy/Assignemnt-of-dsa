{
  "nbformat": 4,
  "nbformat_minor": 0,
  "metadata": {
    "colab": {
      "provenance": []
    },
    "kernelspec": {
      "name": "python3",
      "display_name": "Python 3"
    },
    "language_info": {
      "name": "python"
    }
  },
  "cells": [
    {
      "cell_type": "code",
      "execution_count": null,
      "metadata": {
        "id": "WcC-MuwxOkBJ"
      },
      "outputs": [],
      "source": [
        "\n",
        "Q1. Write a program to find all pairs of an integer array whose sum is equal to a given number?\n",
        "\n",
        "Q2. Write a program to reverse an array in place? In place means you cannot create a new array. You have to update the original array.\n",
        "Q3. Write a program to check if two strings are a rotation of each other?\n",
        "\n",
        "Q4. Write a program to print the first non-repeated character from a string?\n",
        "\n",
        "Q5. Read about the Tower of Hanoi algorithm. Write a program to implement it.\n",
        "\n",
        "Q6. Read about infix, prefix, and postfix expressions. Write a program to convert postfix to prefix expression.\n",
        "\n",
        "Q7. Write a program to convert prefix expression to infix expression.\n",
        "\n",
        "Q8. Write a program to check if all the brackets are closed in a given code snippet.\n",
        "\n",
        "Q9. Write a program to reverse a stack.\n",
        "\n",
        "Q10. Write a program to find the smallest number using a stack.\n",
        "\n"
      ]
    },
    {
      "cell_type": "code",
      "source": [
        " #( 1 )Write a program to find all pairs of an integer array whose sum is equal to a given number?\n",
        "\n",
        "given_array=list(map(int, input(\"elements of array:-\").strip().split()))\n",
        "print(given_array)\n",
        "sum=int(input(\"Enter the sum value to be return: \"))\n",
        "for i in range(len(given_array)):\n",
        "  for j in range(i+1,len(given_array)):\n",
        "    if given_array[i]+given_array[j]==sum:\n",
        "      print([i,j])\n",
        "\n",
        "\n"
      ],
      "metadata": {
        "colab": {
          "base_uri": "https://localhost:8080/"
        },
        "id": "YCxe9xBEOxUV",
        "outputId": "be5a530a-38e0-4d69-afdf-c67e9d4218da"
      },
      "execution_count": 58,
      "outputs": [
        {
          "output_type": "stream",
          "name": "stdout",
          "text": [
            "elements of array:-1 2 3 4 5 \n",
            "[1, 2, 3, 4, 5]\n",
            "Enter the sum value to be return: 8\n",
            "[2, 4]\n"
          ]
        }
      ]
    },
    {
      "cell_type": "code",
      "source": [
        "#(  2  )Write a program to reverse an array in place? In place means you cannot create a new array. You have to update the original array.\n",
        "def reverseList(A):\n",
        "  print( A[::-1])\n",
        "     \n",
        "# Driver function to test above function\n",
        "A = list(map(int, input(\"Enter the elements of array:-\").strip().split()))\n",
        "print(A)\n",
        "print(\"Reverse is\")\n",
        "reverseList(A) \n"
      ],
      "metadata": {
        "colab": {
          "base_uri": "https://localhost:8080/"
        },
        "id": "8Q2JIzrcRTAX",
        "outputId": "3f9f66e8-9781-44cb-cd0a-8950194106b2"
      },
      "execution_count": 59,
      "outputs": [
        {
          "output_type": "stream",
          "name": "stdout",
          "text": [
            "Enter the elements of array:-1 2 3 4 \n",
            "[1, 2, 3, 4]\n",
            "Reverse is\n",
            "[4, 3, 2, 1]\n"
          ]
        }
      ]
    },
    {
      "cell_type": "code",
      "source": [
        "#( 3 )Write a program to check if two strings are a rotation of each other\n",
        "def checkRotation(s1, s2): \n",
        "    temp = '' \n",
        "    if len(s1) != len(s2): \n",
        "        return False \n",
        "    temp = s1 + s1\n",
        "    print(temp) \n",
        "     \n",
        "    if s2 in temp: \n",
        "        return True \n",
        "    else: \n",
        "        return False\n",
        " \n",
        "string1 = input(\"Enter the string:\")\n",
        "string2 = input(\"Enter the string:\")\n",
        "\n",
        "  \n",
        "if checkRotation(string1, string2): \n",
        "    print(\"Given Strings are rotations of each other.\")\n",
        "else: \n",
        "    print(\"Given Strings are not rotations of each other.\")\n",
        "    \n",
        "    "
      ],
      "metadata": {
        "colab": {
          "base_uri": "https://localhost:8080/"
        },
        "id": "XcLcFrfVSRM0",
        "outputId": "b35eeea5-1756-4974-afa2-3225ce8165f7"
      },
      "execution_count": 38,
      "outputs": [
        {
          "output_type": "stream",
          "name": "stdout",
          "text": [
            "Enter the string:dosa\n",
            "Enter the string:sado\n",
            "dosadosa\n",
            "Given Strings are rotations of each other.\n"
          ]
        }
      ]
    },
    {
      "cell_type": "code",
      "source": [
        "#( 4 )Write a program to print the first non-repeated character from a string?\n",
        "def first_nonrepeatingcharacter(str1):\n",
        "  char_order = []\n",
        "  ctr = {}\n",
        "  for c in str1:\n",
        "    if c in ctr:\n",
        "      ctr[c] += 1\n",
        "    else:\n",
        "      ctr[c] = 1 \n",
        "      char_order.append(c)\n",
        "  for c in char_order:\n",
        "    if ctr[c] == 1:\n",
        "      return c\n",
        "  return None\n",
        "\n",
        "user_input=input(\"Enter:\")\n",
        "print(first_nonrepeatingcharacter(user_input))\n"
      ],
      "metadata": {
        "colab": {
          "base_uri": "https://localhost:8080/"
        },
        "id": "tQfPETmGSc7M",
        "outputId": "26a4d14b-c241-4fc7-b3da-8f2c214810a6"
      },
      "execution_count": 41,
      "outputs": [
        {
          "output_type": "stream",
          "name": "stdout",
          "text": [
            "Enter:hhhrruuiisdsads\n",
            "a\n"
          ]
        }
      ]
    },
    {
      "cell_type": "code",
      "source": [
        "#( 5 ) Read about the Tower of Hanoi algorithm. Write a program to implement it.\n",
        "#  TOWER OF HONAI contain 3 rod and N disks\n",
        "def TowerOfHanoi(n, from_rod, to_rod, aux_rod):   \n",
        "    if n == 0:\n",
        "        return\n",
        "    TowerOfHanoi(n-1, from_rod, aux_rod, to_rod)\n",
        "    print(\"Move disk\", n, \"from rod\", from_rod, \"to rod\", to_rod)\n",
        "    TowerOfHanoi(n-1, aux_rod, to_rod, from_rod)\n",
        " \n",
        " \n",
        "# Driver code\n",
        "N = int(input(\"Enter\"))\n",
        "TowerOfHanoi(N, 'first', 'last','middle')"
      ],
      "metadata": {
        "colab": {
          "base_uri": "https://localhost:8080/"
        },
        "id": "QukSadF9Sjd8",
        "outputId": "76a6bea5-e641-4605-fbd2-ef37d1e4fd98"
      },
      "execution_count": 72,
      "outputs": [
        {
          "output_type": "stream",
          "name": "stdout",
          "text": [
            "Enter2\n",
            "Move disk 1 from rod first to rod middle\n",
            "Move disk 2 from rod first to rod last\n",
            "Move disk 1 from rod middle to rod last\n"
          ]
        }
      ]
    },
    {
      "cell_type": "code",
      "source": [
        "#( 6 )Read about infix, prefix, and postfix expressions. Write a program to convert postfix to prefix expression.\n",
        "def isOperator(c):\n",
        "    if c == \"*\" or c == \"+\" or c == \"-\" or c == \"/\" or c == \"^\" or c == \"(\" or c == \")\":\n",
        "        return True\n",
        "    else:\n",
        "        return False\n",
        "\n",
        "def postToPre(post):\n",
        "    s = []    \n",
        "    length = len(post)\n",
        "    for i in range(length):\n",
        "        if (isOperator(post[i])):\n",
        "            op1 = s[-1]\n",
        "            s.pop()\n",
        "            op2 = s[-1]\n",
        "            s.pop()\n",
        "            temp = post[i] + op2 + op1\n",
        "            s.append(temp)\n",
        "        else:\n",
        "            s.append(post[i])   \n",
        "    ans = \"\"\n",
        "    for i in s:\n",
        "        ans += i\n",
        "    return ans\n",
        "if __name__ == \"__main__\":\n",
        " \n",
        "    post = input(\"Enter: \")\n",
        "    print(\"Prefix : \", postToPre(post))\n",
        "\n"
      ],
      "metadata": {
        "colab": {
          "base_uri": "https://localhost:8080/"
        },
        "id": "OeqYfho-SkZX",
        "outputId": "a2979e35-098a-4233-f659-4a8668b3172b"
      },
      "execution_count": 64,
      "outputs": [
        {
          "output_type": "stream",
          "name": "stdout",
          "text": [
            "Enter: cd*\n",
            "Prefix :  *cd\n"
          ]
        }
      ]
    },
    {
      "cell_type": "code",
      "source": [
        "#( 7 ) Write a program to convert prefix expression to infix expression.\n",
        "def prefixToInfix(prefix):\n",
        "    stack = []\n",
        "    i = len(prefix) - 1\n",
        "    while i >= 0:\n",
        "        if not isOperator(prefix[i]):\n",
        "            stack.append(prefix[i])\n",
        "            i -= 1\n",
        "        else:\n",
        "            str = \"(\" + stack.pop() + prefix[i] + stack.pop() + \")\"\n",
        "            stack.append(str)\n",
        "            i -= 1     \n",
        "    return stack.pop()\n",
        "def isOperator(c):\n",
        "    if c == \"*\" or c == \"+\" or c == \"-\" or c == \"/\" or c == \"^\" or c == \"(\" or c == \")\":\n",
        "        return True\n",
        "    else:\n",
        "        return False\n",
        " \n",
        "# Driver code\n",
        "if __name__==\"__main__\":\n",
        "    str =input(\"Enter:\")\n",
        "    print(prefixToInfix(str))\n",
        "     \n"
      ],
      "metadata": {
        "colab": {
          "base_uri": "https://localhost:8080/"
        },
        "id": "HnY6MNELSlos",
        "outputId": "1aaa656a-5053-49d5-e4ed-0785c0b4cbd0"
      },
      "execution_count": 57,
      "outputs": [
        {
          "output_type": "stream",
          "name": "stdout",
          "text": [
            "Enter:*ab\n",
            "(a*b)\n"
          ]
        }
      ]
    },
    {
      "cell_type": "code",
      "source": [
        "#( 8 )Write a program to check if all the brackets are closed in a given code snippet# Python3 program for the above approach\n",
        "\n",
        "def isBalanced(exp):\n",
        "\tflag = True\n",
        "\tcount = 0\n",
        "\tfor i in range(len(exp)):\n",
        "\t\tif (exp[i] == '('):\n",
        "\t\t\tcount += 1\n",
        "\t\telse:\n",
        "\t\t\tcount -= 1\n",
        "\t\tif (count < 0):\n",
        "\t\t\tflag = False\n",
        "\t\t\tbreak\n",
        "\tif (count != 0):\n",
        "\t\tflag = False\n",
        "\treturn flag\n",
        "# Driver code\n",
        "if __name__ == '__main__':\t\n",
        "  \texp1 = input(\"Enter a string of brackets:\")\n",
        "if (isBalanced(exp1)):\n",
        "\t\tprint(\"Balanced\")\n",
        "else:\n",
        "\t\tprint(\"Not Balanced\")"
      ],
      "metadata": {
        "colab": {
          "base_uri": "https://localhost:8080/"
        },
        "id": "nqlUjPrOnFpR",
        "outputId": "6f4037eb-dc8a-45dd-9e05-c129dd0f2e65"
      },
      "execution_count": 51,
      "outputs": [
        {
          "output_type": "stream",
          "name": "stdout",
          "text": [
            "Enter a string of brackets:((}\n",
            "Not Balanced\n"
          ]
        }
      ]
    },
    {
      "cell_type": "code",
      "source": [
        "#( 9 )Write a program to reverse a stack.\n",
        "\n",
        "class Stack:    \n",
        "    def __init__(self):\n",
        "        self.Elements = []\n",
        "\n",
        "    def push(self, value):\n",
        "        self.Elements.append(value)\n",
        "\n",
        "    def pop(self):\n",
        "        return self.Elements.pop()\n",
        " \n",
        "    def empty(self):\n",
        "        return self.Elements == []\n",
        "  \n",
        "    def show(self):\n",
        "        for value in reversed(self.Elements):\n",
        "            print(value)\n",
        " \n",
        "# Insert_Bottom() insert value at bottom\n",
        "def BottomInsert(s, value):\n",
        "   \n",
        "    \n",
        "    if s.empty():\n",
        "\n",
        "        s.push(value)\n",
        " \n",
        "    else:\n",
        "        popped = s.pop()\n",
        "        BottomInsert(s, value)\n",
        "        s.push(popped)\n",
        " \n",
        "# Reverse() reverse the stack\n",
        "def Reverse(s):\n",
        "    if s.empty():\n",
        "        pass\n",
        "    else:\n",
        "        popped = s.pop()\n",
        "        Reverse(s)\n",
        "        BottomInsert(s, popped)\n",
        "stk = Stack()\n",
        " \n",
        "stk.push(3)\n",
        "stk.push(2)\n",
        "stk.push(1)\n",
        "\n",
        " \n",
        "print(\"Original Stack\")\n",
        "stk.show()\n",
        " \n",
        "print(\"\\nStack after Reversing\")\n",
        "Reverse(stk)\n",
        "stk.show()\n",
        "\n"
      ],
      "metadata": {
        "colab": {
          "base_uri": "https://localhost:8080/"
        },
        "id": "qXVc4qsYSnEN",
        "outputId": "f801223c-b441-4d95-9c39-678f0aaf7172"
      },
      "execution_count": 15,
      "outputs": [
        {
          "output_type": "stream",
          "name": "stdout",
          "text": [
            "Original Stack\n",
            "1\n",
            "2\n",
            "3\n",
            "\n",
            "Stack after Reversing\n",
            "3\n",
            "2\n",
            "1\n"
          ]
        }
      ]
    },
    {
      "cell_type": "code",
      "source": [
        "#( 10 )Write a program to find the smallest number using a stack.\n",
        "\n",
        "class small_Stack(object):\n",
        "   min=float('inf')\n",
        "   def __init__(self):\n",
        "      self.min=float('inf')\n",
        "      self.stack = []\n",
        "   def push(self, x):\n",
        "      if x<=self.min:\n",
        "         self.stack.append(self.min)\n",
        "         self.min = x\n",
        "      self.stack.append(x)\n",
        "   def pop(self):\n",
        "      t = self.stack[-1]\n",
        "      self.stack.pop()\n",
        "      if self.min == t:\n",
        "         self.min = self.stack[-1]\n",
        "         self.stack.pop()\n",
        "   def top(self):\n",
        "      return self.stack[-1]\n",
        "   def getMin(self):\n",
        "      return self.min\n",
        "m = small_Stack()\n",
        "m.push(int(input(\"enter\")))\n",
        "m.push(int(input(\"enter\")))\n",
        "m.push(int(input(\"enter\")))\n",
        "print(m.getMin())\n",
        "m.pop()\n",
        "print(m.top())\n",
        "print(m.getMin())"
      ],
      "metadata": {
        "colab": {
          "base_uri": "https://localhost:8080/"
        },
        "id": "WT2lqrbLX-_p",
        "outputId": "5f33cfd5-c3ff-4ed0-e62b-c69dd3852021"
      },
      "execution_count": 55,
      "outputs": [
        {
          "output_type": "stream",
          "name": "stdout",
          "text": [
            "enter2\n",
            "enter3\n",
            "enter4\n",
            "2\n",
            "3\n",
            "2\n"
          ]
        }
      ]
    },
    {
      "cell_type": "code",
      "source": [],
      "metadata": {
        "id": "ixuyDzeyXMbc"
      },
      "execution_count": null,
      "outputs": []
    }
  ]
}